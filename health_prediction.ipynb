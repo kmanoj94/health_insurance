{
 "cells": [
  {
   "cell_type": "code",
   "execution_count": 1,
   "metadata": {},
   "outputs": [],
   "source": [
    "import pandas as pd\n",
    "import numpy as np\n",
    "from sklearn.preprocessing import OneHotEncoder\n",
    "from sklearn.preprocessing import LabelEncoder\n",
    "from sklearn.model_selection import train_test_split\n",
    "import xgboost as xgb\n",
    "from sklearn.metrics import accuracy_score, log_loss\n",
    "from sklearn.ensemble import RandomForestClassifier\n",
    "import tabpy_client"
   ]
  },
  {
   "cell_type": "code",
   "execution_count": 2,
   "metadata": {},
   "outputs": [
    {
     "data": {
      "text/html": [
       "<div>\n",
       "<style scoped>\n",
       "    .dataframe tbody tr th:only-of-type {\n",
       "        vertical-align: middle;\n",
       "    }\n",
       "\n",
       "    .dataframe tbody tr th {\n",
       "        vertical-align: top;\n",
       "    }\n",
       "\n",
       "    .dataframe thead th {\n",
       "        text-align: right;\n",
       "    }\n",
       "</style>\n",
       "<table border=\"1\" class=\"dataframe\">\n",
       "  <thead>\n",
       "    <tr style=\"text-align: right;\">\n",
       "      <th></th>\n",
       "      <th>Name_of_insurance_co</th>\n",
       "      <th>group_name</th>\n",
       "      <th>policy_no</th>\n",
       "      <th>Start Date</th>\n",
       "      <th>End Date</th>\n",
       "      <th>rel_type</th>\n",
       "      <th>Age</th>\n",
       "      <th>sex</th>\n",
       "      <th>Hospital</th>\n",
       "      <th>Network_city</th>\n",
       "      <th>...</th>\n",
       "      <th>icdcodeSecondLevel</th>\n",
       "      <th>icdcodeThirdLevel</th>\n",
       "      <th>Maternity Remarks</th>\n",
       "      <th>Claim Amt</th>\n",
       "      <th>Final Status</th>\n",
       "      <th>GWP</th>\n",
       "      <th>Incurred amt</th>\n",
       "      <th>PreandPost</th>\n",
       "      <th>PROVIDERTYPE</th>\n",
       "      <th>Claim ID</th>\n",
       "    </tr>\n",
       "  </thead>\n",
       "  <tbody>\n",
       "    <tr>\n",
       "      <th>0</th>\n",
       "      <td>New India Assurance</td>\n",
       "      <td>ABC Ltd</td>\n",
       "      <td>123456</td>\n",
       "      <td>2019-01-01</td>\n",
       "      <td>2019-12-31</td>\n",
       "      <td>Spouse</td>\n",
       "      <td>35</td>\n",
       "      <td>Female</td>\n",
       "      <td>Shanti Nursing Home</td>\n",
       "      <td>Delhi</td>\n",
       "      <td>...</td>\n",
       "      <td>Delivery</td>\n",
       "      <td>Single spontaneous delivery</td>\n",
       "      <td>Normal</td>\n",
       "      <td>14652</td>\n",
       "      <td>Settled</td>\n",
       "      <td>12638.70</td>\n",
       "      <td>13590</td>\n",
       "      <td>Regular</td>\n",
       "      <td>Non network</td>\n",
       "      <td>NaN</td>\n",
       "    </tr>\n",
       "    <tr>\n",
       "      <th>1</th>\n",
       "      <td>New India Assurance</td>\n",
       "      <td>ABC Ltd</td>\n",
       "      <td>123456</td>\n",
       "      <td>2019-01-01</td>\n",
       "      <td>2019-12-31</td>\n",
       "      <td>Spouse</td>\n",
       "      <td>25</td>\n",
       "      <td>Female</td>\n",
       "      <td>Shanti Nursing Home</td>\n",
       "      <td>Delhi</td>\n",
       "      <td>...</td>\n",
       "      <td>Respiratory and cardiovascular disorders speci...</td>\n",
       "      <td>Respiratory distress of newborn</td>\n",
       "      <td>NaN</td>\n",
       "      <td>8594</td>\n",
       "      <td>Settled</td>\n",
       "      <td>7248.42</td>\n",
       "      <td>7794</td>\n",
       "      <td>Regular</td>\n",
       "      <td>Non network</td>\n",
       "      <td>NaN</td>\n",
       "    </tr>\n",
       "    <tr>\n",
       "      <th>2</th>\n",
       "      <td>New India Assurance</td>\n",
       "      <td>ABC Ltd</td>\n",
       "      <td>123456</td>\n",
       "      <td>2019-01-01</td>\n",
       "      <td>2019-12-31</td>\n",
       "      <td>Spouse</td>\n",
       "      <td>19</td>\n",
       "      <td>Female</td>\n",
       "      <td>Prantik Nursing Home</td>\n",
       "      <td>Krishnagar</td>\n",
       "      <td>...</td>\n",
       "      <td>Delivery</td>\n",
       "      <td>Single delivery by caesarean section</td>\n",
       "      <td>C-Section</td>\n",
       "      <td>49000</td>\n",
       "      <td>Settled</td>\n",
       "      <td>44362.86</td>\n",
       "      <td>47702</td>\n",
       "      <td>Regular</td>\n",
       "      <td>Non network</td>\n",
       "      <td>NaN</td>\n",
       "    </tr>\n",
       "    <tr>\n",
       "      <th>3</th>\n",
       "      <td>New India Assurance</td>\n",
       "      <td>ABC Ltd</td>\n",
       "      <td>123456</td>\n",
       "      <td>2019-01-01</td>\n",
       "      <td>2019-12-31</td>\n",
       "      <td>Spouse</td>\n",
       "      <td>62</td>\n",
       "      <td>Female</td>\n",
       "      <td>St Stephens Hospital</td>\n",
       "      <td>Delhi</td>\n",
       "      <td>...</td>\n",
       "      <td>Pregnancy with abortive outcome</td>\n",
       "      <td>Ectopic pregnancy</td>\n",
       "      <td>Other</td>\n",
       "      <td>58514</td>\n",
       "      <td>Settled</td>\n",
       "      <td>44992.47</td>\n",
       "      <td>48379</td>\n",
       "      <td>Regular</td>\n",
       "      <td>Network</td>\n",
       "      <td>NaN</td>\n",
       "    </tr>\n",
       "    <tr>\n",
       "      <th>4</th>\n",
       "      <td>New India Assurance</td>\n",
       "      <td>ABC Ltd</td>\n",
       "      <td>123456</td>\n",
       "      <td>2019-01-01</td>\n",
       "      <td>2019-12-31</td>\n",
       "      <td>Employee</td>\n",
       "      <td>90</td>\n",
       "      <td>Female</td>\n",
       "      <td>Specialist Hospital</td>\n",
       "      <td>Bangalore</td>\n",
       "      <td>...</td>\n",
       "      <td>Other diseases of urinary system</td>\n",
       "      <td>Other disorders of urinary system</td>\n",
       "      <td>NaN</td>\n",
       "      <td>28231</td>\n",
       "      <td>Settled</td>\n",
       "      <td>25975.83</td>\n",
       "      <td>27931</td>\n",
       "      <td>Regular</td>\n",
       "      <td>Non network</td>\n",
       "      <td>NaN</td>\n",
       "    </tr>\n",
       "  </tbody>\n",
       "</table>\n",
       "<p>5 rows × 38 columns</p>\n",
       "</div>"
      ],
      "text/plain": [
       "  Name_of_insurance_co group_name  policy_no Start Date   End Date  rel_type  \\\n",
       "0  New India Assurance    ABC Ltd     123456 2019-01-01 2019-12-31    Spouse   \n",
       "1  New India Assurance    ABC Ltd     123456 2019-01-01 2019-12-31    Spouse   \n",
       "2  New India Assurance    ABC Ltd     123456 2019-01-01 2019-12-31    Spouse   \n",
       "3  New India Assurance    ABC Ltd     123456 2019-01-01 2019-12-31    Spouse   \n",
       "4  New India Assurance    ABC Ltd     123456 2019-01-01 2019-12-31  Employee   \n",
       "\n",
       "   Age     sex              Hospital Network_city  ...  \\\n",
       "0   35  Female  Shanti Nursing Home         Delhi  ...   \n",
       "1   25  Female  Shanti Nursing Home         Delhi  ...   \n",
       "2   19  Female  Prantik Nursing Home   Krishnagar  ...   \n",
       "3   62  Female  St Stephens Hospital        Delhi  ...   \n",
       "4   90  Female   Specialist Hospital    Bangalore  ...   \n",
       "\n",
       "                                  icdcodeSecondLevel  \\\n",
       "0                                           Delivery   \n",
       "1  Respiratory and cardiovascular disorders speci...   \n",
       "2                                           Delivery   \n",
       "3                    Pregnancy with abortive outcome   \n",
       "4                   Other diseases of urinary system   \n",
       "\n",
       "                      icdcodeThirdLevel  Maternity Remarks Claim Amt  \\\n",
       "0           Single spontaneous delivery             Normal     14652   \n",
       "1       Respiratory distress of newborn                NaN      8594   \n",
       "2  Single delivery by caesarean section          C-Section     49000   \n",
       "3                     Ectopic pregnancy              Other     58514   \n",
       "4     Other disorders of urinary system                NaN     28231   \n",
       "\n",
       "  Final Status       GWP Incurred amt  PreandPost PROVIDERTYPE Claim ID  \n",
       "0      Settled  12638.70        13590     Regular  Non network      NaN  \n",
       "1      Settled   7248.42         7794     Regular  Non network      NaN  \n",
       "2      Settled  44362.86        47702     Regular  Non network      NaN  \n",
       "3      Settled  44992.47        48379     Regular      Network      NaN  \n",
       "4      Settled  25975.83        27931     Regular  Non network      NaN  \n",
       "\n",
       "[5 rows x 38 columns]"
      ]
     },
     "execution_count": 2,
     "metadata": {},
     "output_type": "execute_result"
    }
   ],
   "source": [
    "df = pd.read_excel('Health_claims.xlsx',sheet_name=1)\n",
    "df.head()\n"
   ]
  },
  {
   "cell_type": "code",
   "execution_count": 3,
   "metadata": {},
   "outputs": [],
   "source": [
    "df2 = df.filter(['Age','sex','Claim Cost','Claim Cost-Amt. Band','Final Status','Sum Insured','disease_category'],axis = 1)\n",
    "df2 = df2[df2['disease_category']!='Pregnancy, childbirth and the puerperium']\n",
    "df2.drop(df2[(df2['disease_category']=='Not mentioned')|(df2['disease_category']=='Not Mentioned')].index,inplace = True)"
   ]
  },
  {
   "cell_type": "code",
   "execution_count": 4,
   "metadata": {},
   "outputs": [
    {
     "data": {
      "text/plain": [
       "Certain infectious and parasitic diseases                                                                312\n",
       "Diseases of the genitourinary system                                                                     305\n",
       "Diseases of the digestive system                                                                         275\n",
       "Injury, poisoning and certain other consequences of external causes                                      248\n",
       "Diseases of the respiratory system                                                                       246\n",
       "Diseases of the eye and adnexa                                                                           204\n",
       "Symptoms, signs and abnormal clinical and laboratory findings, not else  where classified                193\n",
       "Diseases of the circulatory system                                                                       170\n",
       "Certain conditions originating in the perinatal period                                                   146\n",
       "Neoplasms                                                                                                 91\n",
       "Diseases of the musculoskeletal system and connective tissue                                              91\n",
       "Diseases of the skin and subcutaneous tissue                                                              69\n",
       "Diseases of the nervous system                                                                            56\n",
       "Diseases of the ear and mastoid process                                                                   37\n",
       "Endocrine, nutritional and metabolic diseases                                                             37\n",
       "Diseases of the blood and blood-forming organs and certain   disorders involving the immune mechanism      7\n",
       "Congenital malformations, deformations and chromosomal abnormalities                                       7\n",
       "Mental and behavioural disorders                                                                           2\n",
       "External causes of morbidity and mortality                                                                 1\n",
       "Name: disease_category, dtype: int64"
      ]
     },
     "execution_count": 4,
     "metadata": {},
     "output_type": "execute_result"
    }
   ],
   "source": [
    "df2['disease_category'].value_counts()"
   ]
  },
  {
   "cell_type": "code",
   "execution_count": 5,
   "metadata": {},
   "outputs": [],
   "source": [
    "df2[\"sex\"] = np.where(df2[\"sex\"] == \"Female\", 0, 1)\n",
    "df2[\"Final Status\"] = np.where(df2[\"Final Status\"] == \"Settled\", 1,np.where(df2[\"Final Status\"]=='Outstanding',1,0))\n",
    "df2['disease_category']=df2['disease_category'].astype('category')"
   ]
  },
  {
   "cell_type": "code",
   "execution_count": 6,
   "metadata": {},
   "outputs": [],
   "source": [
    "df2[\"disease_category\"] = np.where(df2[\"disease_category\"] == \"Certain infectious and parasitic diseases\", 1,\n",
    "                                 np.where(df2[\"disease_category\"] == \"Diseases of the genitourinary system\", 2,\n",
    "                                         np.where(df2[\"disease_category\"] == \"Diseases of the digestive system\", 3,\n",
    "                                                 np.where(df2[\"disease_category\"] =='Injury, poisoning and certain other consequences of external causes',4,\n",
    "                                                         np.where(df2[\"disease_category\"] =='Diseases of the respiratory system',5,\n",
    "                                                                 np.where(df2[\"disease_category\"] =='Diseases of the eye and adnexa',6,\n",
    "                                                                         np.where(df2[\"disease_category\"] =='Symptoms, signs and abnormal clinical and laboratory findings, not else  where classified',7,\n",
    "                                                                                 np.where(df2[\"disease_category\"] =='Diseases of the circulatory system',8,\n",
    "                                                                                         np.where(df2[\"disease_category\"] =='Certain conditions originating in the perinatal period',9,\n",
    "                                                                                                 np.where(df2[\"disease_category\"] =='Neoplasms',10,\n",
    "                                                                                                         np.where(df2[\"disease_category\"] =='Diseases of the musculoskeletal system and connective tissue',11,\n",
    "                                                                                                                 np.where(df2[\"disease_category\"] =='Diseases of the skin and subcutaneous tissue',12,\n",
    "                                                                                                                         np.where(df2[\"disease_category\"] =='Diseases of the nervous system',13,\n",
    "                                                                                                                                 np.where(df2[\"disease_category\"] =='Diseases of the ear and mastoid process',14,\n",
    "                                                                                                                                         np.where(df2[\"disease_category\"] =='Endocrine, nutritional and metabolic diseases',15,\n",
    "                                                                                                                                                 np.where(df2[\"disease_category\"] =='Diseases of the blood and blood-forming organs and certain   disorders involving the immune mechanism',16,\n",
    "                                                                                                                                                         np.where(df2[\"disease_category\"] =='Congenital malformations, deformations and chromosomal abnormalities',17,\n",
    "                                                                                                                                                                 np.where(df2[\"disease_category\"] =='Mental and behavioural disorders',18,19))))))))))))))))))\n",
    "                                                                                                        "
   ]
  },
  {
   "cell_type": "code",
   "execution_count": 7,
   "metadata": {},
   "outputs": [],
   "source": [
    "#y = pd.get_dummies(df2.disease_category)\n",
    "#New_df2=df2.join(y)\n",
    "df2.drop(columns=['Claim Cost','Claim Cost-Amt. Band','Sum Insured'],axis = 1,inplace=True)\n",
    "df2.to_csv('health10.csv')\n",
    "df = pd.read_csv('health10.csv')\n",
    "df.drop(columns=['Unnamed: 0'],axis = 1,inplace=True)"
   ]
  },
  {
   "cell_type": "code",
   "execution_count": 8,
   "metadata": {},
   "outputs": [],
   "source": [
    "y_true = df['Final Status']\n",
    "df.drop(['Final Status'], axis=1, inplace=True)"
   ]
  },
  {
   "cell_type": "code",
   "execution_count": 9,
   "metadata": {},
   "outputs": [
    {
     "name": "stdout",
     "output_type": "stream",
     "text": [
      "Number of data points in train data : (1747, 3)\n",
      "Number of data points in test data : (750, 3)\n"
     ]
    }
   ],
   "source": [
    "X_train,X_test, y_train, y_test = train_test_split(df, y_true, stratify=y_true, test_size=0.3)\n",
    "print(\"Number of data points in train data :\",X_train.shape)\n",
    "print(\"Number of data points in test data :\",X_test.shape)"
   ]
  },
  {
   "cell_type": "code",
   "execution_count": 10,
   "metadata": {},
   "outputs": [
    {
     "data": {
      "text/plain": [
       "95.88"
      ]
     },
     "execution_count": 10,
     "metadata": {},
     "output_type": "execute_result"
    }
   ],
   "source": [
    "clf=RandomForestClassifier(n_estimators=100)\n",
    "#Train the model using the training sets y_pred=clf.predict(X_test)\n",
    "clf.fit(X_train,y_train)\n",
    "y_pred=clf.predict(X_test)\n",
    "clf.score(X_train, y_train)\n",
    "acc_random_forest = round(clf.score(X_train, y_train) * 100, 2)\n",
    "\n",
    "acc_random_forest"
   ]
  },
  {
   "cell_type": "code",
   "execution_count": 11,
   "metadata": {},
   "outputs": [],
   "source": [
    "import tabpy_client\n",
    "from tabpy.tabpy_tools.client import Client\n",
    "client = tabpy_client.Client('http://localhost:9004/')"
   ]
  },
  {
   "cell_type": "code",
   "execution_count": 13,
   "metadata": {},
   "outputs": [],
   "source": [
    "def disease_predictor( _arg1, _arg2, _arg3):\n",
    "    import pandas as pd\n",
    "    row = {'Age': _arg1,'sex': _arg2,'disease_category': _arg3}\n",
    "    test_data = pd.DataFrame(data = row,index=[0])\n",
    "    predicted = clf.predict_proba(test_data)\n",
    "    return [prediction[1] for prediction in predicted]\n",
    "client.deploy('disease_predictor', disease_predictor,'Predicts disease claim', override = True)\n",
    "\n",
    "    "
   ]
  },
  {
   "cell_type": "code",
   "execution_count": null,
   "metadata": {},
   "outputs": [],
   "source": []
  }
 ],
 "metadata": {
  "kernelspec": {
   "display_name": "Python 3",
   "language": "python",
   "name": "python3"
  },
  "language_info": {
   "codemirror_mode": {
    "name": "ipython",
    "version": 3
   },
   "file_extension": ".py",
   "mimetype": "text/x-python",
   "name": "python",
   "nbconvert_exporter": "python",
   "pygments_lexer": "ipython3",
   "version": "3.8.3"
  }
 },
 "nbformat": 4,
 "nbformat_minor": 4
}
